{
  "nbformat": 4,
  "nbformat_minor": 0,
  "metadata": {
    "colab": {
      "provenance": [],
      "include_colab_link": true
    },
    "kernelspec": {
      "name": "python3",
      "display_name": "Python 3"
    },
    "language_info": {
      "name": "python"
    }
  },
  "cells": [
    {
      "cell_type": "markdown",
      "metadata": {
        "id": "view-in-github",
        "colab_type": "text"
      },
      "source": [
        "<a href=\"https://colab.research.google.com/github/kyosshk/NN-DL-3/blob/main/ICP3.ipynb\" target=\"_parent\"><img src=\"https://colab.research.google.com/assets/colab-badge.svg\" alt=\"Open In Colab\"/></a>"
      ]
    },
    {
      "cell_type": "code",
      "source": [
        "#Employee Class\n",
        "class Employee:\n",
        "    num_of_employees = 0\n",
        "\n",
        "    #initializing the attributes\n",
        "    def __init__(self, name, family, salary, department):\n",
        "        self.name = name\n",
        "        self.family = family\n",
        "        self.salary = salary\n",
        "        self.department = department\n",
        "        Employee.num_of_employees += 1\n",
        "\n",
        "    #Average Salary Method\n",
        "    def averageSalary(self, employees):\n",
        "        total_salary = sum(emp.salary for emp in employees)\n",
        "        return total_salary / len(employees)\n",
        "#Full Time Employee Class - Super Class\n",
        "class FulltimeEmployee(Employee):\n",
        "    def __init__(self, name, family, salary, department, employment_type):\n",
        "        super().__init__(name, family, salary, department)\n",
        "        self.employment_type = employment_type\n",
        "\n",
        "# Instances of Employee class\n",
        "employee1 = Employee(\"Swathi\", \"Kothi\", 50000, \"Senior Software\")\n",
        "employee2 = Employee(\"Ashwini\", \"Alakuntla\", 80000, \"Manager\")\n",
        "\n",
        "# Instances of FulltimeEmployee class\n",
        "fulltime1 = FulltimeEmployee(\"Aishwarya\", \"Tagili\", 50000, \"Engineering\", \"FullTime\")\n",
        "fulltime2 = FulltimeEmployee(\"Sofeen\", \"Firdouse\", 60000, \"Marketing\", \"PartTime\")\n",
        "\n",
        "# Call member functions\n",
        "employees = [employee1, employee2, fulltime1, fulltime2]\n",
        "avgSalary = employee1.averageSalary(employees)\n",
        "\n",
        "print(\"Total Employees:\", Employee.num_of_employees)\n",
        "print(\"Average Salary:\", avgSalary)"
      ],
      "metadata": {
        "colab": {
          "base_uri": "https://localhost:8080/"
        },
        "id": "-ey-WlzLrIaD",
        "outputId": "8d293f51-7070-42d1-a91f-bcca83e193da"
      },
      "execution_count": 1,
      "outputs": [
        {
          "output_type": "stream",
          "name": "stdout",
          "text": [
            "Total Employees: 4\n",
            "Average Salary: 60000.0\n"
          ]
        }
      ]
    },
    {
      "cell_type": "code",
      "execution_count": 2,
      "metadata": {
        "colab": {
          "base_uri": "https://localhost:8080/"
        },
        "id": "RbJB1ltchxcx",
        "outputId": "a2c6adb2-82c3-43fb-e67b-42d6dbece5a4"
      },
      "outputs": [
        {
          "output_type": "stream",
          "name": "stdout",
          "text": [
            "Original Matrix: \n",
            " [[12.53569429  4.51065381 13.15553157  2.60036115 18.44532693]\n",
            " [ 5.81065088 17.5195199   1.34389234 19.69222011 14.28907152]\n",
            " [11.01427796 14.57665818  5.51823621  2.55787483 12.47234616]\n",
            " [16.32542696  8.61448796 13.82733577  5.88717818  5.55980712]]\n",
            "Resultant Matrix: \n",
            " [[12.53569429  4.51065381 13.15553157  2.60036115  0.        ]\n",
            " [ 5.81065088 17.5195199   1.34389234  0.         14.28907152]\n",
            " [11.01427796  0.          5.51823621  2.55787483 12.47234616]\n",
            " [ 0.          8.61448796 13.82733577  5.88717818  5.55980712]]\n"
          ]
        }
      ],
      "source": [
        "import numpy as np\n",
        "#generating a vector\n",
        "vector = np.random.uniform(1, 20, 20)\n",
        "\n",
        "#reshaping the vector into 4 * 5 matrix\n",
        "matrix = vector.reshape(4, 5)\n",
        "\n",
        "print(\"Original Matrix: \\n\",matrix)\n",
        "\n",
        "#finding the index of the max element along axis = 1\n",
        "indices = np.argmax(matrix, axis=1)\n",
        "\n",
        "#Create a range of indices for each row\n",
        "row_indices = np.arange(matrix.shape[0])\n",
        "\n",
        "#Use advanced indexing to replace max values with 0\n",
        "matrix[row_indices, indices] = 0\n",
        "\n",
        "print(\"Resultant Matrix: \\n\",matrix)"
      ]
    }
  ]
}